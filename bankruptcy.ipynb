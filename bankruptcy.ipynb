{
 "cells": [
  {
   "cell_type": "markdown",
   "metadata": {},
   "source": [
    "# Requirements\n",
    "```\n",
    "scikit-learn == 0.24.1\n",
    "numpy == 1.19.5\n",
    "pandas == 1.1.0\n",
    "```\n",
    "# Data inspection\n",
    "The dataset contains 250 samples and 6 categorical features each of which describes a type of internal risk. At this point, features could be assumed to be independent of each other.\n",
    "\n",
    "No missing values, the class distribution is slightly skewed to the negative(NB) class."
   ]
  },
  {
   "cell_type": "code",
   "execution_count": 381,
   "metadata": {},
   "outputs": [],
   "source": [
    "import pandas as pd\n",
    "import numpy as np"
   ]
  },
  {
   "cell_type": "code",
   "execution_count": 382,
   "metadata": {},
   "outputs": [
    {
     "data": {
      "text/html": [
       "<div>\n",
       "<style scoped>\n",
       "    .dataframe tbody tr th:only-of-type {\n",
       "        vertical-align: middle;\n",
       "    }\n",
       "\n",
       "    .dataframe tbody tr th {\n",
       "        vertical-align: top;\n",
       "    }\n",
       "\n",
       "    .dataframe thead th {\n",
       "        text-align: right;\n",
       "    }\n",
       "</style>\n",
       "<table border=\"1\" class=\"dataframe\">\n",
       "  <thead>\n",
       "    <tr style=\"text-align: right;\">\n",
       "      <th></th>\n",
       "      <th>IR</th>\n",
       "      <th>MR</th>\n",
       "      <th>FF</th>\n",
       "      <th>CR</th>\n",
       "      <th>CO</th>\n",
       "      <th>OP</th>\n",
       "      <th>target</th>\n",
       "    </tr>\n",
       "  </thead>\n",
       "  <tbody>\n",
       "    <tr>\n",
       "      <th>0</th>\n",
       "      <td>P</td>\n",
       "      <td>P</td>\n",
       "      <td>A</td>\n",
       "      <td>A</td>\n",
       "      <td>A</td>\n",
       "      <td>P</td>\n",
       "      <td>NB</td>\n",
       "    </tr>\n",
       "    <tr>\n",
       "      <th>1</th>\n",
       "      <td>N</td>\n",
       "      <td>N</td>\n",
       "      <td>A</td>\n",
       "      <td>A</td>\n",
       "      <td>A</td>\n",
       "      <td>N</td>\n",
       "      <td>NB</td>\n",
       "    </tr>\n",
       "    <tr>\n",
       "      <th>2</th>\n",
       "      <td>A</td>\n",
       "      <td>A</td>\n",
       "      <td>A</td>\n",
       "      <td>A</td>\n",
       "      <td>A</td>\n",
       "      <td>A</td>\n",
       "      <td>NB</td>\n",
       "    </tr>\n",
       "    <tr>\n",
       "      <th>3</th>\n",
       "      <td>P</td>\n",
       "      <td>P</td>\n",
       "      <td>P</td>\n",
       "      <td>P</td>\n",
       "      <td>P</td>\n",
       "      <td>P</td>\n",
       "      <td>NB</td>\n",
       "    </tr>\n",
       "    <tr>\n",
       "      <th>4</th>\n",
       "      <td>N</td>\n",
       "      <td>N</td>\n",
       "      <td>P</td>\n",
       "      <td>P</td>\n",
       "      <td>P</td>\n",
       "      <td>N</td>\n",
       "      <td>NB</td>\n",
       "    </tr>\n",
       "  </tbody>\n",
       "</table>\n",
       "</div>"
      ],
      "text/plain": [
       "  IR MR FF CR CO OP target\n",
       "0  P  P  A  A  A  P     NB\n",
       "1  N  N  A  A  A  N     NB\n",
       "2  A  A  A  A  A  A     NB\n",
       "3  P  P  P  P  P  P     NB\n",
       "4  N  N  P  P  P  N     NB"
      ]
     },
     "execution_count": 382,
     "metadata": {},
     "output_type": "execute_result"
    }
   ],
   "source": [
    "bankruptcy = pd.read_csv('./qualitative_banking/Qualitative_Bankruptcy.data.txt', header=None)\n",
    "bankruptcy.columns = ['IR', 'MR', 'FF', 'CR', 'CO', 'OP', 'target']\n",
    "bankruptcy.head(5)"
   ]
  },
  {
   "cell_type": "code",
   "execution_count": 383,
   "metadata": {},
   "outputs": [],
   "source": [
    "from sklearn.preprocessing import LabelEncoder, OrdinalEncoder\n",
    "from sklearn.naive_bayes import CategoricalNB\n",
    "from sklearn.model_selection import train_test_split\n",
    "from sklearn.metrics import confusion_matrix, ConfusionMatrixDisplay, accuracy_score"
   ]
  },
  {
   "cell_type": "markdown",
   "metadata": {},
   "source": [
    "# Feature encoding\n",
    "Each feature has 3 categories indicating negative, average and positive.\n",
    "\n",
    "To preserve the order of the categories, The ordinal encoder is applied to encode the features.\n",
    "\n",
    "The binary target is encoded by a label encoder."
   ]
  },
  {
   "cell_type": "code",
   "execution_count": 384,
   "metadata": {},
   "outputs": [
    {
     "data": {
      "text/plain": [
       "{'B': 0, 'NB': 1}"
      ]
     },
     "execution_count": 384,
     "metadata": {},
     "output_type": "execute_result"
    }
   ],
   "source": [
    "lb_encoder = LabelEncoder()\n",
    "or_encoder = OrdinalEncoder()\n",
    "X = bankruptcy.drop('target', axis=1)\n",
    "y = bankruptcy['target']\n",
    "y = lb_encoder.fit_transform(y)\n",
    "X_train, X_vali, y_train, y_vali = train_test_split(X, y, test_size=0.2, random_state=29)\n",
    "dict(zip(lb_encoder.classes_, lb_encoder.transform(lb_encoder.classes_)))"
   ]
  },
  {
   "cell_type": "code",
   "execution_count": 385,
   "metadata": {},
   "outputs": [],
   "source": [
    "X_train = or_encoder.fit_transform(X_train)\n",
    "X_vali = or_encoder.fit_transform(X_vali)"
   ]
  },
  {
   "cell_type": "markdown",
   "metadata": {},
   "source": [
    "# Modelling & Evaluation\n",
    "\n",
    "## Model selection\n",
    "As mentioned, we made the feature independent assumption. For better interpretability, a Naive Bayes classifier is selected.\n",
    "\n",
    "The model is trained on 200 samples and is validated on the rest 50 samples.\n",
    "\n",
    "## Evaluation\n",
    "As mentioned, the dataset is slightly skewed. Thus, accuracy is used for evaluation. If data becomes more skewed in real world, recall, precision or F1 can be used instead. \n",
    "\n",
    "The confusion matrix shows there is 1 false positive.\n",
    "\n",
    "Note: {'B': 0, 'NB': 1}"
   ]
  },
  {
   "cell_type": "code",
   "execution_count": 386,
   "metadata": {},
   "outputs": [
    {
     "name": "stdout",
     "output_type": "stream",
     "text": [
      "Accuracy 0.98\n"
     ]
    },
    {
     "data": {
      "text/plain": [
       "<sklearn.metrics._plot.confusion_matrix.ConfusionMatrixDisplay at 0x7fea8128b3c8>"
      ]
     },
     "execution_count": 386,
     "metadata": {},
     "output_type": "execute_result"
    },
    {
     "data": {
      "image/png": "[encoded data removed]",
      "text/plain": [
       "<Figure size 432x288 with 2 Axes>"
      ]
     },
     "metadata": {
      "needs_background": "light"
     },
     "output_type": "display_data"
    }
   ],
   "source": [
    "catnb = CategoricalNB()\n",
    "catnb.fit(X_train, y_train)\n",
    "preds = catnb.predict(X_vali)\n",
    "print('Accuracy', accuracy_score(y_pred=preds, y_true=y_vali))\n",
    "ConfusionMatrixDisplay(confusion_matrix=confusion_matrix(y_pred=preds, y_true=y_vali), display_labels=catnb.classes_).plot()"
   ]
  },
  {
   "cell_type": "markdown",
   "metadata": {},
   "source": [
    "#### Error analysis\n",
    "The model predicts a bankrupted sample as not bankrupted."
   ]
  },
  {
   "cell_type": "code",
   "execution_count": 387,
   "metadata": {},
   "outputs": [
    {
     "name": "stdout",
     "output_type": "stream",
     "text": [
      "Error data point [[1. 0. 2. 0. 1. 2.]]\n",
      "Decoded data [['N' 'A' 'P' 'A' 'N' 'P']]\n",
      "Predicted probability for 0 and 1 class given by Naive Bayes: \n",
      "[[0.30026419 0.69973581]]\n"
     ]
    },
    {
     "data": {
      "text/html": [
       "<div>\n",
       "<style scoped>\n",
       "    .dataframe tbody tr th:only-of-type {\n",
       "        vertical-align: middle;\n",
       "    }\n",
       "\n",
       "    .dataframe tbody tr th {\n",
       "        vertical-align: top;\n",
       "    }\n",
       "\n",
       "    .dataframe thead th {\n",
       "        text-align: right;\n",
       "    }\n",
       "</style>\n",
       "<table border=\"1\" class=\"dataframe\">\n",
       "  <thead>\n",
       "    <tr style=\"text-align: right;\">\n",
       "      <th></th>\n",
       "      <th>pred</th>\n",
       "      <th>gold</th>\n",
       "    </tr>\n",
       "  </thead>\n",
       "  <tbody>\n",
       "    <tr>\n",
       "      <th>6</th>\n",
       "      <td>1</td>\n",
       "      <td>0</td>\n",
       "    </tr>\n",
       "  </tbody>\n",
       "</table>\n",
       "</div>"
      ],
      "text/plain": [
       "   pred  gold\n",
       "6     1     0"
      ]
     },
     "execution_count": 387,
     "metadata": {},
     "output_type": "execute_result"
    }
   ],
   "source": [
    "preds_golds = pd.DataFrame({'pred': preds, 'gold': y_vali})\n",
    "error_id = preds_golds[preds_golds['pred'] != preds_golds['gold']].index\n",
    "print('Error data point', X_vali[error_id])\n",
    "print('Decoded data', or_encoder.inverse_transform( X_vali[error_id]))\n",
    "print('Predicted probability for 0 and 1 class given by Naive Bayes: ')\n",
    "print(catnb.predict_proba(X_vali[error_id]))\n",
    "preds_golds.iloc[error_id]"
   ]
  },
  {
   "cell_type": "markdown",
   "metadata": {},
   "source": [
    "#### Examining the estimated probability\n",
    "The log probability is transformed back to empirical probability using exp.\n",
    "\n",
    "The feature_log_prob_ is in shape (n features, classes, feature categories), from which we can calculate $P(y=1 | x=x_{error})$ for the error sample.\n",
    "\n",
    "In this case, $x_{error} = [IR=N,MR=A,FF=P,CR=A,CO=N,OP=P]$\n",
    "\n",
    "$P(y=1 | x=x_{error}) \\propto \\prod_{j} P_{x_{error}^j|y=1} P(y=1)$\n",
    "\n",
    "We can see from the empirical probabilities where $P(CO=N | y=NB) = 0.0085$ and $P(CO=N | y=B) = 0.94$.\n",
    "\n",
    "Although CO=N is a strong signal of bankruptcy, other indicators such as MR=A,FF=P,CR=A,OP=P show the opposite."
   ]
  },
  {
   "cell_type": "code",
   "execution_count": 388,
   "metadata": {},
   "outputs": [
    {
     "data": {
      "text/plain": [
       "array([[[0.26966292, 0.48314607, 0.24719101],\n",
       "        [0.33333333, 0.25641026, 0.41025641]],\n",
       "\n",
       "       [[0.21348315, 0.6741573 , 0.11235955],\n",
       "        [0.33333333, 0.31623932, 0.35042735]],\n",
       "\n",
       "       [[0.04494382, 0.94382022, 0.01123596],\n",
       "        [0.47008547, 0.12820513, 0.4017094 ]],\n",
       "\n",
       "       [[0.16853933, 0.80898876, 0.02247191],\n",
       "        [0.44444444, 0.06837607, 0.48717949]],\n",
       "\n",
       "       [[0.04494382, 0.94382022, 0.01123596],\n",
       "        [0.35042735, 0.00854701, 0.64102564]],\n",
       "\n",
       "       [[0.24719101, 0.58426966, 0.16853933],\n",
       "        [0.21367521, 0.36752137, 0.41880342]]])"
      ]
     },
     "execution_count": 388,
     "metadata": {},
     "output_type": "execute_result"
    }
   ],
   "source": [
    "# catnb.class_count_, catnb.category_count_\n",
    "# index mapping A:0 N:1 P:2, B:0, NB:1\n",
    "np.exp(catnb.feature_log_prob_)"
   ]
  },
  {
   "cell_type": "code",
   "execution_count": null,
   "metadata": {},
   "outputs": [],
   "source": []
  }
 ],
 "metadata": {
  "kernelspec": {
   "display_name": "Python 3.6.8 64-bit",
   "language": "python",
   "name": "python3"
  },
  "language_info": {
   "codemirror_mode": {
    "name": "ipython",
    "version": 3
   },
   "file_extension": ".py",
   "mimetype": "text/x-python",
   "name": "python",
   "nbconvert_exporter": "python",
   "pygments_lexer": "ipython3",
   "version": "3.6.8"
  },
  "orig_nbformat": 4,
  "vscode": {
   "interpreter": {
    "hash": "58bc13ec4dd135858b8220102d0ad3358f57eb64d131366ec25c4d4365eacf63"
   }
  }
 },
 "nbformat": 4,
 "nbformat_minor": 2
}
